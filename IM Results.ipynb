{
 "cells": [
  {
   "cell_type": "code",
   "execution_count": 1,
   "id": "75e2040f",
   "metadata": {},
   "outputs": [],
   "source": [
    "import pandas as pd\n",
    "from datetime import datetime\n",
    "import matplotlib.pyplot as plt\n",
    "from datetime import date, timedelta"
   ]
  },
  {
   "cell_type": "code",
   "execution_count": 8,
   "id": "824c0877",
   "metadata": {},
   "outputs": [],
   "source": [
    "df = pd.read_csv(r'C:/Users/souzag31/OneDrive - Heineken International/Gustavo Souza de Almeida/PBI/IM/Ironman World Championship.csv', encoding = 'latin1')"
   ]
  },
  {
   "cell_type": "code",
   "execution_count": 11,
   "id": "1fbd5868",
   "metadata": {},
   "outputs": [
    {
     "name": "stdout",
     "output_type": "stream",
     "text": [
      "<class 'pandas.core.frame.DataFrame'>\n",
      "RangeIndex: 252 entries, 0 to 251\n",
      "Data columns (total 6 columns):\n",
      " #   Column   Non-Null Count  Dtype \n",
      "---  ------   --------------  ----- \n",
      " 0   Year     252 non-null    int64 \n",
      " 1   Place    252 non-null    int64 \n",
      " 2   Athlete  252 non-null    object\n",
      " 3   Country  252 non-null    object\n",
      " 4   Time     252 non-null    object\n",
      " 5   Gender   252 non-null    object\n",
      "dtypes: int64(2), object(4)\n",
      "memory usage: 11.9+ KB\n"
     ]
    }
   ],
   "source": [
    "df.info()"
   ]
  },
  {
   "cell_type": "code",
   "execution_count": 13,
   "id": "76d2f319",
   "metadata": {},
   "outputs": [
    {
     "data": {
      "text/plain": [
       "Index(['Year', 'Place', 'Athlete', 'Country', 'Time', 'Gender'], dtype='object')"
      ]
     },
     "execution_count": 13,
     "metadata": {},
     "output_type": "execute_result"
    }
   ],
   "source": [
    "df.columns"
   ]
  },
  {
   "cell_type": "code",
   "execution_count": 14,
   "id": "379c337e",
   "metadata": {},
   "outputs": [
    {
     "data": {
      "text/html": [
       "<div>\n",
       "<style scoped>\n",
       "    .dataframe tbody tr th:only-of-type {\n",
       "        vertical-align: middle;\n",
       "    }\n",
       "\n",
       "    .dataframe tbody tr th {\n",
       "        vertical-align: top;\n",
       "    }\n",
       "\n",
       "    .dataframe thead th {\n",
       "        text-align: right;\n",
       "    }\n",
       "</style>\n",
       "<table border=\"1\" class=\"dataframe\">\n",
       "  <thead>\n",
       "    <tr style=\"text-align: right;\">\n",
       "      <th></th>\n",
       "      <th>Year</th>\n",
       "      <th>Place</th>\n",
       "      <th>Athlete</th>\n",
       "      <th>Country</th>\n",
       "      <th>Time</th>\n",
       "      <th>Gender</th>\n",
       "    </tr>\n",
       "  </thead>\n",
       "  <tbody>\n",
       "    <tr>\n",
       "      <th>0</th>\n",
       "      <td>2019</td>\n",
       "      <td>1</td>\n",
       "      <td>Jan Frodeno</td>\n",
       "      <td>GER</td>\n",
       "      <td>7:51:13</td>\n",
       "      <td>Male</td>\n",
       "    </tr>\n",
       "    <tr>\n",
       "      <th>1</th>\n",
       "      <td>2018</td>\n",
       "      <td>1</td>\n",
       "      <td>Patrick Lange</td>\n",
       "      <td>GER</td>\n",
       "      <td>7:52:39</td>\n",
       "      <td>Male</td>\n",
       "    </tr>\n",
       "    <tr>\n",
       "      <th>2</th>\n",
       "      <td>2017</td>\n",
       "      <td>1</td>\n",
       "      <td>Patrick Lange</td>\n",
       "      <td>GER</td>\n",
       "      <td>8:01:40</td>\n",
       "      <td>Male</td>\n",
       "    </tr>\n",
       "    <tr>\n",
       "      <th>3</th>\n",
       "      <td>2016</td>\n",
       "      <td>1</td>\n",
       "      <td>Jan Frodeno</td>\n",
       "      <td>GER</td>\n",
       "      <td>8:06:30</td>\n",
       "      <td>Male</td>\n",
       "    </tr>\n",
       "    <tr>\n",
       "      <th>4</th>\n",
       "      <td>2015</td>\n",
       "      <td>1</td>\n",
       "      <td>Jan Frodeno</td>\n",
       "      <td>GER</td>\n",
       "      <td>8:14:40</td>\n",
       "      <td>Male</td>\n",
       "    </tr>\n",
       "  </tbody>\n",
       "</table>\n",
       "</div>"
      ],
      "text/plain": [
       "   Year  Place        Athlete Country     Time Gender\n",
       "0  2019      1    Jan Frodeno     GER  7:51:13   Male\n",
       "1  2018      1  Patrick Lange     GER  7:52:39   Male\n",
       "2  2017      1  Patrick Lange     GER  8:01:40   Male\n",
       "3  2016      1    Jan Frodeno     GER  8:06:30   Male\n",
       "4  2015      1    Jan Frodeno     GER  8:14:40   Male"
      ]
     },
     "execution_count": 14,
     "metadata": {},
     "output_type": "execute_result"
    }
   ],
   "source": [
    "df.head()"
   ]
  },
  {
   "cell_type": "code",
   "execution_count": 20,
   "id": "a25fc9a3",
   "metadata": {
    "scrolled": true
   },
   "outputs": [
    {
     "data": {
      "text/html": [
       "<div>\n",
       "<style scoped>\n",
       "    .dataframe tbody tr th:only-of-type {\n",
       "        vertical-align: middle;\n",
       "    }\n",
       "\n",
       "    .dataframe tbody tr th {\n",
       "        vertical-align: top;\n",
       "    }\n",
       "\n",
       "    .dataframe thead th {\n",
       "        text-align: right;\n",
       "    }\n",
       "</style>\n",
       "<table border=\"1\" class=\"dataframe\">\n",
       "  <thead>\n",
       "    <tr style=\"text-align: right;\">\n",
       "      <th></th>\n",
       "      <th>Year</th>\n",
       "      <th>Place</th>\n",
       "      <th>Athlete</th>\n",
       "      <th>Country</th>\n",
       "      <th>Time</th>\n",
       "      <th>Gender</th>\n",
       "      <th>time_hour</th>\n",
       "    </tr>\n",
       "  </thead>\n",
       "  <tbody>\n",
       "    <tr>\n",
       "      <th>0</th>\n",
       "      <td>2019</td>\n",
       "      <td>1</td>\n",
       "      <td>Jan Frodeno</td>\n",
       "      <td>GER</td>\n",
       "      <td>7:51:13</td>\n",
       "      <td>Male</td>\n",
       "      <td>07:51:13</td>\n",
       "    </tr>\n",
       "    <tr>\n",
       "      <th>1</th>\n",
       "      <td>2018</td>\n",
       "      <td>1</td>\n",
       "      <td>Patrick Lange</td>\n",
       "      <td>GER</td>\n",
       "      <td>7:52:39</td>\n",
       "      <td>Male</td>\n",
       "      <td>07:52:39</td>\n",
       "    </tr>\n",
       "    <tr>\n",
       "      <th>2</th>\n",
       "      <td>2017</td>\n",
       "      <td>1</td>\n",
       "      <td>Patrick Lange</td>\n",
       "      <td>GER</td>\n",
       "      <td>8:01:40</td>\n",
       "      <td>Male</td>\n",
       "      <td>08:01:40</td>\n",
       "    </tr>\n",
       "    <tr>\n",
       "      <th>3</th>\n",
       "      <td>2016</td>\n",
       "      <td>1</td>\n",
       "      <td>Jan Frodeno</td>\n",
       "      <td>GER</td>\n",
       "      <td>8:06:30</td>\n",
       "      <td>Male</td>\n",
       "      <td>08:06:30</td>\n",
       "    </tr>\n",
       "    <tr>\n",
       "      <th>4</th>\n",
       "      <td>2015</td>\n",
       "      <td>1</td>\n",
       "      <td>Jan Frodeno</td>\n",
       "      <td>GER</td>\n",
       "      <td>8:14:40</td>\n",
       "      <td>Male</td>\n",
       "      <td>08:14:40</td>\n",
       "    </tr>\n",
       "  </tbody>\n",
       "</table>\n",
       "</div>"
      ],
      "text/plain": [
       "   Year  Place        Athlete Country     Time Gender time_hour\n",
       "0  2019      1    Jan Frodeno     GER  7:51:13   Male  07:51:13\n",
       "1  2018      1  Patrick Lange     GER  7:52:39   Male  07:52:39\n",
       "2  2017      1  Patrick Lange     GER  8:01:40   Male  08:01:40\n",
       "3  2016      1    Jan Frodeno     GER  8:06:30   Male  08:06:30\n",
       "4  2015      1    Jan Frodeno     GER  8:14:40   Male  08:14:40"
      ]
     },
     "execution_count": 20,
     "metadata": {},
     "output_type": "execute_result"
    }
   ],
   "source": [
    "df['time_hour'] = pd.to_datetime(df['Time'], format = '%H:%M:%S').dt.time\n",
    "df.head()"
   ]
  },
  {
   "cell_type": "markdown",
   "id": "5ff6dc7c",
   "metadata": {},
   "source": [
    "# Top 10 atletas homens com mais participações em mundial"
   ]
  },
  {
   "cell_type": "code",
   "execution_count": 34,
   "id": "82df88fd",
   "metadata": {
    "scrolled": true
   },
   "outputs": [
    {
     "data": {
      "text/plain": [
       "Athlete\n",
       "Dave Scott           9\n",
       "Mark Allen           9\n",
       "Scott Tinley         8\n",
       "Peter Reid           7\n",
       "Andreas Raelert      5\n",
       "Thomas Hellriegel    4\n",
       "Jan Frodeno          4\n",
       "Tim DeBoom           4\n",
       "Craig Alexander      4\n",
       "Greg Welch           4\n",
       "Name: Year, dtype: int64"
      ]
     },
     "execution_count": 34,
     "metadata": {},
     "output_type": "execute_result"
    }
   ],
   "source": [
    "df_male = df[df['Gender']== 'Male']\n",
    "\n",
    "num_races_men = df_male.groupby('Athlete')['Year'].count()\n",
    "\n",
    "num_races_men.sort_values(ascending = False).nlargest(10)"
   ]
  },
  {
   "cell_type": "markdown",
   "id": "301f6276",
   "metadata": {},
   "source": [
    "# Top 10 atletas mulheres com mais participações em mundial"
   ]
  },
  {
   "cell_type": "code",
   "execution_count": 35,
   "id": "a3eb5a0a",
   "metadata": {},
   "outputs": [
    {
     "data": {
      "text/plain": [
       "Athlete\n",
       "Paula Newby-Fraser     10\n",
       "Natascha Badmann        8\n",
       "Mirinda Carfrae         7\n",
       "Lori Bowden             7\n",
       "Fernanda Keller         6\n",
       "Sylviane Puntous        5\n",
       "Daniela Ryf             5\n",
       "Erin Baker              5\n",
       "Karen Smyers            4\n",
       "Chrissie Wellington     4\n",
       "Name: Year, dtype: int64"
      ]
     },
     "execution_count": 35,
     "metadata": {},
     "output_type": "execute_result"
    }
   ],
   "source": [
    "df_female = df[df['Gender']== 'Female']\n",
    "\n",
    "num_races_women = df_female.groupby('Athlete')['Year'].count()\n",
    "\n",
    "num_races_women.sort_values(ascending = False).nlargest(10)"
   ]
  },
  {
   "cell_type": "markdown",
   "id": "601c43c1",
   "metadata": {},
   "source": [
    "# Países com maior número de atletas em mundial"
   ]
  },
  {
   "cell_type": "code",
   "execution_count": 37,
   "id": "8495fa22",
   "metadata": {},
   "outputs": [
    {
     "data": {
      "text/plain": [
       "Country\n",
       "USA    81\n",
       "GER    37\n",
       "AUS    29\n",
       "CAN    27\n",
       "GBR    18\n",
       "SUI    16\n",
       "ZIM    10\n",
       "BEL     9\n",
       "NZL     9\n",
       "BRA     6\n",
       "FIN     3\n",
       "ESP     2\n",
       "NED     2\n",
       "CHI     1\n",
       "DEN     1\n",
       "FRA     1\n",
       "Name: Year, dtype: int64"
      ]
     },
     "execution_count": 37,
     "metadata": {},
     "output_type": "execute_result"
    }
   ],
   "source": [
    "races_per_country = df.groupby('Country')['Year'].count()\n",
    "\n",
    "races_per_country.sort_values(ascending = False)"
   ]
  }
 ],
 "metadata": {
  "kernelspec": {
   "display_name": "Python 3 (ipykernel)",
   "language": "python",
   "name": "python3"
  },
  "language_info": {
   "codemirror_mode": {
    "name": "ipython",
    "version": 3
   },
   "file_extension": ".py",
   "mimetype": "text/x-python",
   "name": "python",
   "nbconvert_exporter": "python",
   "pygments_lexer": "ipython3",
   "version": "3.9.13"
  }
 },
 "nbformat": 4,
 "nbformat_minor": 5
}
